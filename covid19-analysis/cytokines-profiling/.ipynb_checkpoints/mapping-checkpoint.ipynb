{
 "cells": [
  {
   "cell_type": "markdown",
   "metadata": {},
   "source": [
    "# Cytokines mappings\n",
    "\n",
    "This notebook is to crosscheck Leon mappings from Luminex to Ensembl gene name, Ensembl gene ID, and UniProt ID\n",
    "\n",
    "I will use two different services: bridgedb and biothings\n",
    "\n",
    "## BridgeDb \n",
    "BridgeDb is a framework to map identifiers between various biological databases.\n",
    "\n",
    "Website: https://bridgedb.github.io/\n",
    "\n",
    "### API\n",
    "https://bridgedb.github.io/swagger/\n",
    "\n",
    "## Biothings\n",
    "FAIR API ecosystem for biomedical knowledge.\n",
    "\n",
    "Website: https://biothings.io/\n",
    "\n",
    "### API\n",
    "https://mygene.info/\n",
    "\n",
    "\n",
    "\n",
    "### Preamble\n",
    "#### Imports"
   ]
  },
  {
   "cell_type": "code",
   "execution_count": 22,
   "metadata": {},
   "outputs": [],
   "source": [
    "import os\n",
    "import pandas as pd\n",
    "\n",
    "# BridgeDb\n",
    "import requests\n",
    "import json\n",
    "from pandas.io.json import json_normalize\n",
    "\n",
    "# BioThings\n",
    "from biothings_client import get_client"
   ]
  },
  {
   "cell_type": "markdown",
   "metadata": {},
   "source": [
    "#### Variables"
   ]
  },
  {
   "cell_type": "code",
   "execution_count": 14,
   "metadata": {},
   "outputs": [],
   "source": [
    "indir = os.getcwd() + '/in'\n",
    "outdir = os.getcwd() + '/out'\n",
    "if not os.path.exists(outdir): os.makedirs(outdir)"
   ]
  },
  {
   "cell_type": "markdown",
   "metadata": {},
   "source": [
    "#### Functions"
   ]
  },
  {
   "cell_type": "markdown",
   "metadata": {},
   "source": [
    "#### Workflow\n",
    "##### Retrieve luminex cytokines list"
   ]
  },
  {
   "cell_type": "code",
   "execution_count": 6,
   "metadata": {},
   "outputs": [
    {
     "name": "stdout",
     "output_type": "stream",
     "text": [
      "(105, 1)\n"
     ]
    },
    {
     "data": {
      "text/html": [
       "<div>\n",
       "<style scoped>\n",
       "    .dataframe tbody tr th:only-of-type {\n",
       "        vertical-align: middle;\n",
       "    }\n",
       "\n",
       "    .dataframe tbody tr th {\n",
       "        vertical-align: top;\n",
       "    }\n",
       "\n",
       "    .dataframe thead th {\n",
       "        text-align: right;\n",
       "    }\n",
       "</style>\n",
       "<table border=\"1\" class=\"dataframe\">\n",
       "  <thead>\n",
       "    <tr style=\"text-align: right;\">\n",
       "      <th></th>\n",
       "      <th>entity luminex gene name</th>\n",
       "    </tr>\n",
       "  </thead>\n",
       "  <tbody>\n",
       "    <tr>\n",
       "      <th>0</th>\n",
       "      <td>CX3CL1</td>\n",
       "    </tr>\n",
       "    <tr>\n",
       "      <th>1</th>\n",
       "      <td>CCL26</td>\n",
       "    </tr>\n",
       "  </tbody>\n",
       "</table>\n",
       "</div>"
      ],
      "text/plain": [
       "  entity luminex gene name\n",
       "0                   CX3CL1\n",
       "1                    CCL26"
      ]
     },
     "execution_count": 6,
     "metadata": {},
     "output_type": "execute_result"
    }
   ],
   "source": [
    "# read input file\n",
    "df = pd.read_csv('{}/cytokines_luminex.csv'.format(indir))\n",
    "print(df.shape)\n",
    "df.head(2)"
   ]
  },
  {
   "cell_type": "markdown",
   "metadata": {},
   "source": [
    "##### BridgeDb: Map label to Ensembl and UniProt"
   ]
  },
  {
   "cell_type": "code",
   "execution_count": 18,
   "metadata": {},
   "outputs": [],
   "source": [
    "# api address\n",
    "api = 'https://webservice.bridgedb.org'\n",
    "endpoint = 'sourceDataSources'"
   ]
  },
  {
   "cell_type": "code",
   "execution_count": 28,
   "metadata": {},
   "outputs": [
    {
     "data": {
      "text/plain": [
       "<Response [405]>"
      ]
     },
     "execution_count": 28,
     "metadata": {},
     "output_type": "execute_result"
    }
   ],
   "source": [
    "# get gene info\n",
    "r = requests.get('{}/Human/{}'.format(api,endpoint))\n",
    "r = requests.get('https://webservice.bridgedb.org/Human/xrefsBatch/L?dataSource=En')\n",
    "#r.headers\n",
    "r"
   ]
  },
  {
   "cell_type": "code",
   "execution_count": null,
   "metadata": {},
   "outputs": [],
   "source": []
  },
  {
   "cell_type": "code",
   "execution_count": null,
   "metadata": {},
   "outputs": [],
   "source": []
  },
  {
   "cell_type": "code",
   "execution_count": null,
   "metadata": {},
   "outputs": [],
   "source": []
  },
  {
   "cell_type": "code",
   "execution_count": null,
   "metadata": {},
   "outputs": [],
   "source": []
  },
  {
   "cell_type": "markdown",
   "metadata": {},
   "source": [
    "##### BioThings: Map label to Ensembl and UniProt"
   ]
  },
  {
   "cell_type": "code",
   "execution_count": 7,
   "metadata": {},
   "outputs": [
    {
     "name": "stdout",
     "output_type": "stream",
     "text": [
      "total unique targets: 105\n"
     ]
    }
   ],
   "source": [
    "# get the list of cytokines\n",
    "cytokines_l = set(list(df['entity luminex gene name']))\n",
    "print('total unique targets:',len(cytokines_l))"
   ]
  },
  {
   "cell_type": "code",
   "execution_count": 11,
   "metadata": {},
   "outputs": [
    {
     "name": "stdout",
     "output_type": "stream",
     "text": [
      "querying 1-105...done.\n",
      "Finished.\n",
      "14 input query terms found no hit:\n",
      "\t['Chitinase3like1', 'sIL6Rb', 'sTNFR2', 'Pentraxin3', 'SCGFb', 'sCD163', 'bNGF', 'sTNFR1', 'sIL6Ra',\n",
      "Pass \"returnall=True\" to return complete lists of duplicate or missing query terms.\n",
      "(105, 6)\n"
     ]
    },
    {
     "name": "stderr",
     "output_type": "stream",
     "text": [
      "/home/queralt/anaconda3/lib/python3.7/site-packages/biothings_client/base.py:143: FutureWarning: pandas.io.json.json_normalize is deprecated, use pandas.json_normalize instead\n",
      "  df = json_normalize(obj)\n"
     ]
    },
    {
     "data": {
      "text/html": [
       "<div>\n",
       "<style scoped>\n",
       "    .dataframe tbody tr th:only-of-type {\n",
       "        vertical-align: middle;\n",
       "    }\n",
       "\n",
       "    .dataframe tbody tr th {\n",
       "        vertical-align: top;\n",
       "    }\n",
       "\n",
       "    .dataframe thead th {\n",
       "        text-align: right;\n",
       "    }\n",
       "</style>\n",
       "<table border=\"1\" class=\"dataframe\">\n",
       "  <thead>\n",
       "    <tr style=\"text-align: right;\">\n",
       "      <th></th>\n",
       "      <th>notfound</th>\n",
       "      <th>_id</th>\n",
       "      <th>_score</th>\n",
       "      <th>ensembl.gene</th>\n",
       "      <th>uniprot.Swiss-Prot</th>\n",
       "      <th>ensembl</th>\n",
       "    </tr>\n",
       "    <tr>\n",
       "      <th>query</th>\n",
       "      <th></th>\n",
       "      <th></th>\n",
       "      <th></th>\n",
       "      <th></th>\n",
       "      <th></th>\n",
       "      <th></th>\n",
       "    </tr>\n",
       "  </thead>\n",
       "  <tbody>\n",
       "    <tr>\n",
       "      <th>Chitinase3like1</th>\n",
       "      <td>True</td>\n",
       "      <td>NaN</td>\n",
       "      <td>NaN</td>\n",
       "      <td>NaN</td>\n",
       "      <td>NaN</td>\n",
       "      <td>NaN</td>\n",
       "    </tr>\n",
       "    <tr>\n",
       "      <th>CXCL16</th>\n",
       "      <td>NaN</td>\n",
       "      <td>58191</td>\n",
       "      <td>94.342514</td>\n",
       "      <td>ENSG00000161921</td>\n",
       "      <td>Q9H2A7</td>\n",
       "      <td>NaN</td>\n",
       "    </tr>\n",
       "    <tr>\n",
       "      <th>CXCL2</th>\n",
       "      <td>NaN</td>\n",
       "      <td>2920</td>\n",
       "      <td>106.811650</td>\n",
       "      <td>ENSG00000081041</td>\n",
       "      <td>P19875</td>\n",
       "      <td>NaN</td>\n",
       "    </tr>\n",
       "    <tr>\n",
       "      <th>IL6</th>\n",
       "      <td>NaN</td>\n",
       "      <td>3569</td>\n",
       "      <td>89.233370</td>\n",
       "      <td>ENSG00000136244</td>\n",
       "      <td>P05231</td>\n",
       "      <td>NaN</td>\n",
       "    </tr>\n",
       "    <tr>\n",
       "      <th>IL17F</th>\n",
       "      <td>NaN</td>\n",
       "      <td>112744</td>\n",
       "      <td>92.746490</td>\n",
       "      <td>ENSG00000112116</td>\n",
       "      <td>Q96PD4</td>\n",
       "      <td>NaN</td>\n",
       "    </tr>\n",
       "  </tbody>\n",
       "</table>\n",
       "</div>"
      ],
      "text/plain": [
       "                notfound     _id      _score     ensembl.gene  \\\n",
       "query                                                           \n",
       "Chitinase3like1     True     NaN         NaN              NaN   \n",
       "CXCL16               NaN   58191   94.342514  ENSG00000161921   \n",
       "CXCL2                NaN    2920  106.811650  ENSG00000081041   \n",
       "IL6                  NaN    3569   89.233370  ENSG00000136244   \n",
       "IL17F                NaN  112744   92.746490  ENSG00000112116   \n",
       "\n",
       "                uniprot.Swiss-Prot ensembl  \n",
       "query                                       \n",
       "Chitinase3like1                NaN     NaN  \n",
       "CXCL16                      Q9H2A7     NaN  \n",
       "CXCL2                       P19875     NaN  \n",
       "IL6                         P05231     NaN  \n",
       "IL17F                       Q96PD4     NaN  "
      ]
     },
     "execution_count": 11,
     "metadata": {},
     "output_type": "execute_result"
    }
   ],
   "source": [
    "# retrieve ensembl gene id and uniprot id from mygene.info\n",
    "mg = get_client('gene')\n",
    "bt_df = mg.querymany(cytokines_l, scopes = 'symbol,alias,retired', fields = 'ensembl.gene,uniprot.Swiss-Prot', size = 1, as_dataframe = True)\n",
    "print(bt_df.shape)\n",
    "bt_df.head()"
   ]
  },
  {
   "cell_type": "code",
   "execution_count": 12,
   "metadata": {},
   "outputs": [
    {
     "name": "stdout",
     "output_type": "stream",
     "text": [
      "(105, 3)\n"
     ]
    },
    {
     "data": {
      "text/html": [
       "<div>\n",
       "<style scoped>\n",
       "    .dataframe tbody tr th:only-of-type {\n",
       "        vertical-align: middle;\n",
       "    }\n",
       "\n",
       "    .dataframe tbody tr th {\n",
       "        vertical-align: top;\n",
       "    }\n",
       "\n",
       "    .dataframe thead th {\n",
       "        text-align: right;\n",
       "    }\n",
       "</style>\n",
       "<table border=\"1\" class=\"dataframe\">\n",
       "  <thead>\n",
       "    <tr style=\"text-align: right;\">\n",
       "      <th></th>\n",
       "      <th>luminex</th>\n",
       "      <th>ensembl.gene</th>\n",
       "      <th>uniprot</th>\n",
       "    </tr>\n",
       "  </thead>\n",
       "  <tbody>\n",
       "    <tr>\n",
       "      <th>0</th>\n",
       "      <td>Chitinase3like1</td>\n",
       "      <td>NaN</td>\n",
       "      <td>NaN</td>\n",
       "    </tr>\n",
       "    <tr>\n",
       "      <th>1</th>\n",
       "      <td>CXCL16</td>\n",
       "      <td>ENSG00000161921</td>\n",
       "      <td>Q9H2A7</td>\n",
       "    </tr>\n",
       "    <tr>\n",
       "      <th>2</th>\n",
       "      <td>CXCL2</td>\n",
       "      <td>ENSG00000081041</td>\n",
       "      <td>P19875</td>\n",
       "    </tr>\n",
       "    <tr>\n",
       "      <th>3</th>\n",
       "      <td>IL6</td>\n",
       "      <td>ENSG00000136244</td>\n",
       "      <td>P05231</td>\n",
       "    </tr>\n",
       "    <tr>\n",
       "      <th>4</th>\n",
       "      <td>IL17F</td>\n",
       "      <td>ENSG00000112116</td>\n",
       "      <td>Q96PD4</td>\n",
       "    </tr>\n",
       "  </tbody>\n",
       "</table>\n",
       "</div>"
      ],
      "text/plain": [
       "           luminex     ensembl.gene uniprot\n",
       "0  Chitinase3like1              NaN     NaN\n",
       "1           CXCL16  ENSG00000161921  Q9H2A7\n",
       "2            CXCL2  ENSG00000081041  P19875\n",
       "3              IL6  ENSG00000136244  P05231\n",
       "4            IL17F  ENSG00000112116  Q96PD4"
      ]
     },
     "execution_count": 12,
     "metadata": {},
     "output_type": "execute_result"
    }
   ],
   "source": [
    "# rename columns and subset biothings dataframe\n",
    "ids = (bt_df.reset_index()\n",
    "       .rename(columns={'query': 'luminex', \n",
    "                        'uniprot.Swiss-Prot': 'uniprot'})\n",
    "       [['luminex', 'ensembl.gene', 'uniprot']]\n",
    "       .copy()\n",
    "      )\n",
    "print(ids.shape)\n",
    "ids.head()"
   ]
  },
  {
   "cell_type": "code",
   "execution_count": 16,
   "metadata": {},
   "outputs": [],
   "source": [
    "# save df\n",
    "ids.fillna('NA').to_csv('{}/biothings_mappings.tsv'.format(outdir), sep= '\\t', index = False, header = True)"
   ]
  },
  {
   "cell_type": "markdown",
   "metadata": {},
   "source": [
    "#### Conclusion\n",
    "14 input query terms found no hit"
   ]
  }
 ],
 "metadata": {
  "kernelspec": {
   "display_name": "Python 3",
   "language": "python",
   "name": "python3"
  },
  "language_info": {
   "codemirror_mode": {
    "name": "ipython",
    "version": 3
   },
   "file_extension": ".py",
   "mimetype": "text/x-python",
   "name": "python",
   "nbconvert_exporter": "python",
   "pygments_lexer": "ipython3",
   "version": "3.7.6"
  }
 },
 "nbformat": 4,
 "nbformat_minor": 4
}
